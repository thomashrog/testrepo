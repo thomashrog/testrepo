{
 "cells": [
  {
   "cell_type": "code",
   "execution_count": 1,
   "metadata": {
    "collapsed": false
   },
   "outputs": [
    {
     "name": "stderr",
     "output_type": "stream",
     "text": [
      "Loading required package: XML\n",
      "Warning message:\n",
      ": package 'XML' was built under R version 3.3.0Loading required package: RCurl\n",
      "Loading required package: bitops\n",
      "Loading required package: wordcloud\n",
      "Warning message:\n",
      ": package 'wordcloud' was built under R version 3.3.0Loading required package: RColorBrewer\n"
     ]
    }
   ],
   "source": [
    "require(XML)\n",
    "require(RCurl)\n",
    "require(wordcloud)"
   ]
  },
  {
   "cell_type": "code",
   "execution_count": 2,
   "metadata": {
    "collapsed": true
   },
   "outputs": [],
   "source": [
    "StopWords = readLines(\"http://jmlr.csail.mit.edu/papers/volume5/lewis04a/a11-smart-stop-list/english.stop\")\n",
    "\n",
    "asWords = function(txt, stopWords = StopWords, stem = FALSE)\n",
    "{\n",
    "  words = unlist(strsplit(txt, '[[:space:]!.,;#:()/\"]+'))\n",
    "  words = words[words != \"\"]\n",
    "  if(stem && require(Rlibstemmer))\n",
    "     words = wordStem(words)\n",
    "  i = tolower(words) %in% tolower(stopWords)\n",
    "  words[!i]\n",
    "}\n",
    "\n",
    "removeStopWords = function(x, stopWords = StopWords) \n",
    "     {\n",
    "         if(is.character(x))\n",
    "             setdiff(x, stopWords)\n",
    "         else if(is.list(x))\n",
    "             lapply(x, removeStopWords, stopWords)\n",
    "         else\n",
    "             x\n",
    "     }\n",
    "\n",
    "cy.getFreeFormWords = function(doc, stopWords = StopWords)\n",
    "     {\n",
    "         nodes = getNodeSet(doc, \"//div[@class='job-details']/\n",
    "                                 div[@data-section]\")\n",
    "         if(length(nodes) == 0) \n",
    "             nodes = getNodeSet(doc, \"//div[@class='job-details']//p\")\n",
    "\n",
    "         if(length(nodes) == 0) \n",
    "             warning(\"did not find any nodes for the free form text in \",\n",
    "                     docName(doc))\n",
    "\n",
    "         words = lapply(nodes,\n",
    "                        function(x)\n",
    "                            strsplit(xmlValue(x), \n",
    "                                     \"[[:space:][:punct:]]+\"))\n",
    "\n",
    "         removeStopWords(words, stopWords)\n",
    "     }"
   ]
  },
  {
   "cell_type": "code",
   "execution_count": 3,
   "metadata": {
    "collapsed": true
   },
   "outputs": [],
   "source": [
    "cy.getSkillList = function(doc)\n",
    "{\n",
    "  lis = getNodeSet(doc, \"//div[@class = 'skills-section']//\n",
    "                         li[@class = 'skill-item']//\n",
    "                         span[@class = 'skill-name']\")\n",
    "\n",
    "  sapply(lis, xmlValue)\n",
    "}\n",
    "\n",
    "cy.getDatePosted = function(doc)\n",
    "  { xmlValue(getNodeSet(doc, \n",
    "                     \"//div[@class = 'job-details']//\n",
    "                        div[@class='posted']/\n",
    "                        span/following-sibling::text()\")[[1]],\n",
    "    trim = TRUE) \n",
    "}\n",
    "\n",
    "cy.getLocationSalary = function(doc)\n",
    "{\n",
    "  ans = xpathSApply(doc, \"//div[@class = 'job-info-main'][1]/div\", xmlValue)\n",
    "  names(ans) = c(\"location\", \"salary\")\n",
    "  ans\n",
    "}\n",
    "\n",
    "# cy.getSkillList(cydoc)\n",
    "# cy.getLocationSalary(cydoc)"
   ]
  },
  {
   "cell_type": "code",
   "execution_count": 4,
   "metadata": {
    "collapsed": true
   },
   "outputs": [],
   "source": [
    "cy.readPost = function(u, stopWords = StopWords, doc = htmlParse(u))\n",
    "  {\n",
    "    ans = list(words = cy.getFreeFormWords(doc, stopWords),\n",
    "         datePosted = cy.getDatePosted(doc),\n",
    "         skills = cy.getSkillList(doc))\n",
    "    o = cy.getLocationSalary(doc)\n",
    "    ans[names(o)] = o\n",
    "    ans\n",
    "}\n",
    "# cyFuns = list(readPost = function(u, stopWords = StopWords, doc=htmlParse(u)))"
   ]
  },
  {
   "cell_type": "code",
   "execution_count": 26,
   "metadata": {
    "collapsed": false
   },
   "outputs": [
    {
     "data": {
      "text/html": [
       "<table>\n",
       "<thead><tr><th></th></tr></thead>\n",
       "<tbody>\n",
       "</tbody>\n",
       "</table>\n"
      ],
      "text/latex": [
       "\\begin{tabular}{r|}\n",
       " \\\\\n",
       "\\hline\n",
       "\\end{tabular}\n"
      ],
      "text/plain": [
       "data frame with 0 columns and 0 rows"
      ]
     },
     "metadata": {},
     "output_type": "display_data"
    },
    {
     "ename": "ERROR",
     "evalue": "Error in if (is.na(uri)) return(structure(as.character(uri), class = \"URI\")): argument is of length zero\n",
     "output_type": "error",
     "traceback": [
      "Error in if (is.na(uri)) return(structure(as.character(uri), class = \"URI\")): argument is of length zero\nTraceback:\n",
      "1. getRelativeURL(as.data.frame(unclass(links)), \"http://www.cybercoders.com/search/\")",
      "2. parseURI(u)"
     ]
    }
   ],
   "source": [
    "# Obtain URLs for job posts\n",
    "txt = getForm(\"http://www.cybercoders.com/search/\", searchterms = '\"Data Scientist\"',\n",
    "              searchlocation = \"\",  newsearch = \"true\", sorttype = \"\")\n",
    "# Parse the links\n",
    "doc = htmlParse(txt, asText = TRUE)\n",
    "as.data.frame(unclass(links))  \n",
    "links = getNodeSet(doc, \"//div[@class = 'job-title']/a/@href\")\n",
    "# Save the links in the vector joblinks\n",
    "joblinks <- getRelativeURL(as.data.frame(unclass(links)), \"http://www.cybercoders.com/search/\")\n",
    "# Read the posts\n",
    "posts <- lapply(joblinks,cy.readPost)\n",
    "\n",
    "cy.getPostLinks = function(doc, baseURL = \"http://www.cybercoders.com/search/\") \n",
    "  {\n",
    "    if(is.character(doc)) doc = htmlParse(doc)\n",
    "    links = getNodeSet(doc, \"//div[@class = 'job-title']/a/@href\") \n",
    "    getRelativeURL(as.data.frame(unclass(links), baseURL))\n",
    "}\n",
    "\n",
    "cy.readPagePosts = function(doc, links = cy.getPostLinks(doc, baseURL),\n",
    "baseURL = \"http://www.cybercoders.com/search/\")\n",
    "  {\n",
    "    if(is.character(doc)) doc = htmlParse(doc)\n",
    "    lapply(links, cy.readPost)\n",
    " }\n",
    "\n",
    "## Testing the function with the parsed version of the first page of results in object doc\n",
    "posts = cy.readPagePosts(doc)\n",
    "sapply(posts,`[[`, \"salary\")"
   ]
  },
  {
   "cell_type": "code",
   "execution_count": 17,
   "metadata": {
    "collapsed": false
   },
   "outputs": [
    {
     "ename": "ERROR",
     "evalue": "Error in lapply(X = X, FUN = FUN, ...): object 'posts' not found\n",
     "output_type": "error",
     "traceback": [
      "Error in lapply(X = X, FUN = FUN, ...): object 'posts' not found\nTraceback:\n",
      "1. summary(sapply(posts, function(x) length(unlist(x$words))))",
      "2. sapply(posts, function(x) length(unlist(x$words)))",
      "3. lapply(X = X, FUN = FUN, ...)"
     ]
    }
   ],
   "source": [
    "summary(sapply(posts, function(x) length(unlist(x$words))))"
   ]
  },
  {
   "cell_type": "code",
   "execution_count": 8,
   "metadata": {
    "collapsed": false
   },
   "outputs": [
    {
     "data": {
      "text/plain": [
       "NULL"
      ]
     },
     "metadata": {},
     "output_type": "display_data"
    }
   ],
   "source": [
    "links"
   ]
  },
  {
   "cell_type": "code",
   "execution_count": null,
   "metadata": {
    "collapsed": true
   },
   "outputs": [],
   "source": []
  }
 ],
 "metadata": {
  "kernelspec": {
   "display_name": "R",
   "language": "R",
   "name": "ir"
  },
  "language_info": {
   "codemirror_mode": "r",
   "file_extension": ".r",
   "mimetype": "text/x-r-source",
   "name": "R",
   "pygments_lexer": "r",
   "version": "3.2.5"
  }
 },
 "nbformat": 4,
 "nbformat_minor": 0
}
